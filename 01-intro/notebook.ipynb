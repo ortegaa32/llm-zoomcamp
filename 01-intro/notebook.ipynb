{
 "cells": [
  {
   "cell_type": "code",
   "execution_count": 1,
   "id": "73702cc4-e911-4f34-ae9e-59e1a0b71d8c",
   "metadata": {},
   "outputs": [],
   "source": [
    "import cohere"
   ]
  },
  {
   "cell_type": "code",
   "execution_count": 2,
   "id": "d3e9f253-faf6-4526-aa02-0b76197170bb",
   "metadata": {},
   "outputs": [],
   "source": [
    "client = cohere.Client()"
   ]
  },
  {
   "cell_type": "code",
   "execution_count": 5,
   "id": "feb8b9fa-be54-40ae-93a4-78f19fda3a5d",
   "metadata": {},
   "outputs": [],
   "source": [
    "response = client.chat(\n",
    "    message=\"is it too late to join the course?\"\n",
    ")"
   ]
  },
  {
   "cell_type": "code",
   "execution_count": 7,
   "id": "80113671-7731-4508-9533-8b3259bfc5e7",
   "metadata": {},
   "outputs": [
    {
     "data": {
      "text/plain": [
       "\"I don't have enough information to answer your question. It depends on the specific course and its enrollment policies. Some courses may have strict deadlines for registration, while others may allow late additions. It's best to check with the course organizer or institution directly to find out if you can still join. They can provide you with the most accurate and up-to-date information regarding enrollment deadlines and any possible exceptions.\""
      ]
     },
     "execution_count": 7,
     "metadata": {},
     "output_type": "execute_result"
    }
   ],
   "source": [
    "response.text"
   ]
  },
  {
   "cell_type": "code",
   "execution_count": null,
   "id": "a6336481-03d8-44ae-8bb8-774502c08253",
   "metadata": {},
   "outputs": [],
   "source": []
  },
  {
   "cell_type": "code",
   "execution_count": null,
   "id": "078a453a-07c1-4c28-a1c1-6df8db3673e1",
   "metadata": {},
   "outputs": [],
   "source": []
  },
  {
   "cell_type": "code",
   "execution_count": null,
   "id": "570d0866-e001-4c97-8921-53ddc48942b9",
   "metadata": {},
   "outputs": [],
   "source": []
  }
 ],
 "metadata": {
  "kernelspec": {
   "display_name": "Python 3 (ipykernel)",
   "language": "python",
   "name": "python3"
  },
  "language_info": {
   "codemirror_mode": {
    "name": "ipython",
    "version": 3
   },
   "file_extension": ".py",
   "mimetype": "text/x-python",
   "name": "python",
   "nbconvert_exporter": "python",
   "pygments_lexer": "ipython3",
   "version": "3.10.13"
  }
 },
 "nbformat": 4,
 "nbformat_minor": 5
}
