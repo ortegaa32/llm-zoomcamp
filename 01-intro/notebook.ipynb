{
 "cells": [
  {
   "cell_type": "code",
   "execution_count": 1,
   "id": "73702cc4-e911-4f34-ae9e-59e1a0b71d8c",
   "metadata": {},
   "outputs": [],
   "source": [
    "import cohere"
   ]
  },
  {
   "cell_type": "code",
   "execution_count": 2,
   "id": "d3e9f253-faf6-4526-aa02-0b76197170bb",
   "metadata": {},
   "outputs": [],
   "source": [
    "client = cohere.Client()"
   ]
  },
  {
   "cell_type": "code",
   "execution_count": 5,
   "id": "feb8b9fa-be54-40ae-93a4-78f19fda3a5d",
   "metadata": {},
   "outputs": [],
   "source": [
    "response = client.chat(\n",
    "    message=\"is it too late to join the course?\"\n",
    ")"
   ]
  },
  {
   "cell_type": "code",
   "execution_count": 7,
   "id": "80113671-7731-4508-9533-8b3259bfc5e7",
   "metadata": {},
   "outputs": [
    {
     "data": {
      "text/plain": [
       "\"I don't have enough information to answer your question. It depends on the specific course and its enrollment policies. Some courses may have strict deadlines for registration, while others may allow late additions. It's best to check with the course organizer or institution directly to find out if you can still join. They can provide you with the most accurate and up-to-date information regarding enrollment deadlines and any possible exceptions.\""
      ]
     },
     "execution_count": 7,
     "metadata": {},
     "output_type": "execute_result"
    }
   ],
   "source": [
    "response.text"
   ]
  },
  {
   "cell_type": "markdown",
   "id": "d8d7d577-4688-491a-bc9f-9af3af89d25b",
   "metadata": {},
   "source": [
    "## RAG Intro"
   ]
  },
  {
   "cell_type": "code",
   "execution_count": 8,
   "id": "078a453a-07c1-4c28-a1c1-6df8db3673e1",
   "metadata": {},
   "outputs": [
    {
     "name": "stdout",
     "output_type": "stream",
     "text": [
      "--2024-06-28 20:10:43--  https://raw.githubusercontent.com/alexeygrigorev/minsearch/main/minsearch.py\n",
      "Resolving raw.githubusercontent.com (raw.githubusercontent.com)... 185.199.109.133, 185.199.110.133, 185.199.111.133, ...\n",
      "Connecting to raw.githubusercontent.com (raw.githubusercontent.com)|185.199.109.133|:443... connected.\n",
      "HTTP request sent, awaiting response... 200 OK\n",
      "Length: 3832 (3.7K) [text/plain]\n",
      "Saving to: ‘minsearch.py’\n",
      "\n",
      "minsearch.py        100%[===================>]   3.74K  --.-KB/s    in 0s      \n",
      "\n",
      "2024-06-28 20:10:44 (27.2 MB/s) - ‘minsearch.py’ saved [3832/3832]\n",
      "\n"
     ]
    }
   ],
   "source": [
    "!wget https://raw.githubusercontent.com/alexeygrigorev/minsearch/main/minsearch.py"
   ]
  },
  {
   "cell_type": "code",
   "execution_count": 9,
   "id": "570d0866-e001-4c97-8921-53ddc48942b9",
   "metadata": {},
   "outputs": [],
   "source": [
    "import minsearch"
   ]
  },
  {
   "cell_type": "code",
   "execution_count": 10,
   "id": "7c9c53fc-6535-4315-8a7d-480f9e3dbde1",
   "metadata": {},
   "outputs": [
    {
     "name": "stdout",
     "output_type": "stream",
     "text": [
      "--2024-06-28 20:13:33--  https://raw.githubusercontent.com/DataTalksClub/llm-zoomcamp/main/01-intro/documents.json\n",
      "Resolving raw.githubusercontent.com (raw.githubusercontent.com)... 185.199.109.133, 185.199.111.133, 185.199.108.133, ...\n",
      "Connecting to raw.githubusercontent.com (raw.githubusercontent.com)|185.199.109.133|:443... connected.\n",
      "HTTP request sent, awaiting response... 200 OK\n",
      "Length: 658332 (643K) [text/plain]\n",
      "Saving to: ‘documents.json’\n",
      "\n",
      "documents.json      100%[===================>] 642.90K  --.-KB/s    in 0.03s   \n",
      "\n",
      "2024-06-28 20:13:33 (18.2 MB/s) - ‘documents.json’ saved [658332/658332]\n",
      "\n"
     ]
    }
   ],
   "source": [
    "!wget https://raw.githubusercontent.com/DataTalksClub/llm-zoomcamp/main/01-intro/documents.json"
   ]
  },
  {
   "cell_type": "code",
   "execution_count": 11,
   "id": "eadb1eac-f1f9-4aaf-8fac-2d6317fae7e3",
   "metadata": {},
   "outputs": [],
   "source": [
    "import json"
   ]
  },
  {
   "cell_type": "code",
   "execution_count": 21,
   "id": "0b016721-2d36-415a-a145-86d6feb1d307",
   "metadata": {},
   "outputs": [],
   "source": [
    "with open('01-intro/documents.json', 'rt') as f_in:\n",
    "    docs_raw = json.load(f_in)"
   ]
  },
  {
   "cell_type": "code",
   "execution_count": 23,
   "id": "d43bd8c4-ed35-4f14-ba22-5d5bdc0572c6",
   "metadata": {},
   "outputs": [],
   "source": [
    "documents = []\n",
    "\n",
    "for course_dict in docs_raw:\n",
    "    for doc in course_dict['documents']:\n",
    "        doc['course'] = course_dict['course']\n",
    "        documents.append(doc)"
   ]
  },
  {
   "cell_type": "code",
   "execution_count": 24,
   "id": "801fa9ae-3524-455c-b286-fe46b3b9985a",
   "metadata": {},
   "outputs": [
    {
     "data": {
      "text/plain": [
       "{'text': \"The purpose of this document is to capture frequently asked technical questions\\nThe exact day and hour of the course will be 15th Jan 2024 at 17h00. The course will start with the first  “Office Hours'' live.1\\nSubscribe to course public Google Calendar (it works from Desktop only).\\nRegister before the course starts using this link.\\nJoin the course Telegram channel with announcements.\\nDon’t forget to register in DataTalks.Club's Slack and join the channel.\",\n",
       " 'section': 'General course-related questions',\n",
       " 'question': 'Course - When will the course start?',\n",
       " 'course': 'data-engineering-zoomcamp'}"
      ]
     },
     "execution_count": 24,
     "metadata": {},
     "output_type": "execute_result"
    }
   ],
   "source": [
    "documents[0]"
   ]
  },
  {
   "cell_type": "code",
   "execution_count": 25,
   "id": "7ee0c6ee-3c3c-4f69-98cf-d822f4858288",
   "metadata": {},
   "outputs": [],
   "source": [
    "index = minsearch.Index(\n",
    "    text_fields=['question','text','section'],\n",
    "    keyword_fields=['course']\n",
    ")"
   ]
  },
  {
   "cell_type": "code",
   "execution_count": 26,
   "id": "d908d325-5b67-4d95-b52c-92645d9d375b",
   "metadata": {},
   "outputs": [],
   "source": [
    "q = 'the course has already started, can I still enroll?'"
   ]
  },
  {
   "cell_type": "code",
   "execution_count": 27,
   "id": "574457b2-76d2-4f3b-b434-e6033cca78d3",
   "metadata": {},
   "outputs": [
    {
     "data": {
      "text/plain": [
       "<minsearch.Index at 0x7e8332b76500>"
      ]
     },
     "execution_count": 27,
     "metadata": {},
     "output_type": "execute_result"
    }
   ],
   "source": [
    "index.fit(documents)"
   ]
  },
  {
   "cell_type": "code",
   "execution_count": 30,
   "id": "21f63ee6-c809-454d-94de-fadb049ee4b3",
   "metadata": {},
   "outputs": [],
   "source": [
    "boost = {'question': 3.0, 'section': 0.5}\n",
    "\n",
    "results=index.search(\n",
    "    query=q,\n",
    "    filter_dict={'course': 'data-engineering-zoomcamp'},\n",
    "    boost_dict=boost,\n",
    "    num_results=5\n",
    ")"
   ]
  },
  {
   "cell_type": "code",
   "execution_count": 31,
   "id": "01a07d43-a5ca-46fd-aef6-5d6dc64dd235",
   "metadata": {},
   "outputs": [
    {
     "data": {
      "text/plain": [
       "[{'text': \"Yes, even if you don't register, you're still eligible to submit the homeworks.\\nBe aware, however, that there will be deadlines for turning in the final projects. So don't leave everything for the last minute.\",\n",
       "  'section': 'General course-related questions',\n",
       "  'question': 'Course - Can I still join the course after the start date?',\n",
       "  'course': 'data-engineering-zoomcamp'},\n",
       " {'text': 'Yes, we will keep all the materials after the course finishes, so you can follow the course at your own pace after it finishes.\\nYou can also continue looking at the homeworks and continue preparing for the next cohort. I guess you can also start working on your final capstone project.',\n",
       "  'section': 'General course-related questions',\n",
       "  'question': 'Course - Can I follow the course after it finishes?',\n",
       "  'course': 'data-engineering-zoomcamp'},\n",
       " {'text': \"The purpose of this document is to capture frequently asked technical questions\\nThe exact day and hour of the course will be 15th Jan 2024 at 17h00. The course will start with the first  “Office Hours'' live.1\\nSubscribe to course public Google Calendar (it works from Desktop only).\\nRegister before the course starts using this link.\\nJoin the course Telegram channel with announcements.\\nDon’t forget to register in DataTalks.Club's Slack and join the channel.\",\n",
       "  'section': 'General course-related questions',\n",
       "  'question': 'Course - When will the course start?',\n",
       "  'course': 'data-engineering-zoomcamp'},\n",
       " {'text': 'You can start by installing and setting up all the dependencies and requirements:\\nGoogle cloud account\\nGoogle Cloud SDK\\nPython 3 (installed with Anaconda)\\nTerraform\\nGit\\nLook over the prerequisites and syllabus to see if you are comfortable with these subjects.',\n",
       "  'section': 'General course-related questions',\n",
       "  'question': 'Course - What can I do before the course starts?',\n",
       "  'course': 'data-engineering-zoomcamp'},\n",
       " {'text': 'Yes, the slack channel remains open and you can ask questions there. But always sDocker containers exit code w search the channel first and second, check the FAQ (this document), most likely all your questions are already answered here.\\nYou can also tag the bot @ZoomcampQABot to help you conduct the search, but don’t rely on its answers 100%, it is pretty good though.',\n",
       "  'section': 'General course-related questions',\n",
       "  'question': 'Course - Can I get support if I take the course in the self-paced mode?',\n",
       "  'course': 'data-engineering-zoomcamp'}]"
      ]
     },
     "execution_count": 31,
     "metadata": {},
     "output_type": "execute_result"
    }
   ],
   "source": [
    "results"
   ]
  },
  {
   "cell_type": "markdown",
   "id": "c5438ca0-6efc-4e1b-8c72-6b4be27b0c32",
   "metadata": {},
   "source": [
    "## Generating Answers with Cohere"
   ]
  },
  {
   "cell_type": "code",
   "execution_count": 32,
   "id": "39c65cf2-456b-4e90-bb7a-af7950443b88",
   "metadata": {},
   "outputs": [],
   "source": [
    "response = client.chat(\n",
    "    message=q\n",
    ")"
   ]
  },
  {
   "cell_type": "code",
   "execution_count": 34,
   "id": "dc652502-ca8c-4f7d-859b-36f3448282e1",
   "metadata": {},
   "outputs": [
    {
     "data": {
      "text/plain": [
       "'Yes, you can still enroll in the course even if it has already started. However, please note that you may have missed some of the course content and will need to catch up on your own time. It is also a good idea to reach out to the instructor to see if they have any recommendations for catching up with the course material.'"
      ]
     },
     "execution_count": 34,
     "metadata": {},
     "output_type": "execute_result"
    }
   ],
   "source": [
    "response.text"
   ]
  },
  {
   "cell_type": "code",
   "execution_count": 42,
   "id": "fd0b2264-2dfa-4a51-b3cc-73bf346ed44b",
   "metadata": {},
   "outputs": [],
   "source": [
    "prompt_template=\"\"\"\n",
    "You're a course teaching assistant. Answer the QUESTION based on the CONTEXT from the FAQ database.\n",
    "Use only facts from the CONTEXT when answering the QUESTION.\n",
    "If the CONTEXT doesn't contain the answer, output NONE\n",
    "\n",
    "QUESTION:{question}\n",
    "\n",
    "CONTEXT: {context}\n",
    "\"\"\".strip()"
   ]
  },
  {
   "cell_type": "code",
   "execution_count": 39,
   "id": "332a19c0-8ae2-409d-beb2-a5d387e3c676",
   "metadata": {},
   "outputs": [],
   "source": [
    "context = \"\"\n",
    "\n",
    "for doc in results:\n",
    "    context = context + f\"section: {doc['section']}\\nquestion: {doc['question']}\\nanswer: {doc['text']}\\n\\n\""
   ]
  },
  {
   "cell_type": "code",
   "execution_count": 40,
   "id": "dd066ff2-1869-4c6c-8881-539487e6e90d",
   "metadata": {},
   "outputs": [
    {
     "name": "stdout",
     "output_type": "stream",
     "text": [
      "section: General course-related questions\n",
      "question: Course - Can I still join the course after the start date?\n",
      "answer: Yes, even if you don't register, you're still eligible to submit the homeworks.\n",
      "Be aware, however, that there will be deadlines for turning in the final projects. So don't leave everything for the last minute.\n",
      "\n",
      "section: General course-related questions\n",
      "question: Course - Can I follow the course after it finishes?\n",
      "answer: Yes, we will keep all the materials after the course finishes, so you can follow the course at your own pace after it finishes.\n",
      "You can also continue looking at the homeworks and continue preparing for the next cohort. I guess you can also start working on your final capstone project.\n",
      "\n",
      "section: General course-related questions\n",
      "question: Course - When will the course start?\n",
      "answer: The purpose of this document is to capture frequently asked technical questions\n",
      "The exact day and hour of the course will be 15th Jan 2024 at 17h00. The course will start with the first  “Office Hours'' live.1\n",
      "Subscribe to course public Google Calendar (it works from Desktop only).\n",
      "Register before the course starts using this link.\n",
      "Join the course Telegram channel with announcements.\n",
      "Don’t forget to register in DataTalks.Club's Slack and join the channel.\n",
      "\n",
      "section: General course-related questions\n",
      "question: Course - What can I do before the course starts?\n",
      "answer: You can start by installing and setting up all the dependencies and requirements:\n",
      "Google cloud account\n",
      "Google Cloud SDK\n",
      "Python 3 (installed with Anaconda)\n",
      "Terraform\n",
      "Git\n",
      "Look over the prerequisites and syllabus to see if you are comfortable with these subjects.\n",
      "\n",
      "section: General course-related questions\n",
      "question: Course - Can I get support if I take the course in the self-paced mode?\n",
      "answer: Yes, the slack channel remains open and you can ask questions there. But always sDocker containers exit code w search the channel first and second, check the FAQ (this document), most likely all your questions are already answered here.\n",
      "You can also tag the bot @ZoomcampQABot to help you conduct the search, but don’t rely on its answers 100%, it is pretty good though.\n",
      "\n",
      "\n"
     ]
    }
   ],
   "source": [
    "print(context)"
   ]
  },
  {
   "cell_type": "code",
   "execution_count": 45,
   "id": "d57f3268-e3af-4025-8471-093574b67e2e",
   "metadata": {},
   "outputs": [],
   "source": [
    "prompt=prompt_template.format(question=q, context=context).strip()"
   ]
  },
  {
   "cell_type": "code",
   "execution_count": 46,
   "id": "ba99ee23-6134-4b1c-b95f-6e1504e42179",
   "metadata": {},
   "outputs": [
    {
     "name": "stdout",
     "output_type": "stream",
     "text": [
      "You're a course teaching assistant. Answer the QUESTION based on the CONTEXT from the FAQ database.\n",
      "Use only facts from the CONTEXT when answering the QUESTION.\n",
      "If the CONTEXT doesn't contain the answer, output NONE\n",
      "\n",
      "QUESTION:the course has already started, can I still enroll?\n",
      "\n",
      "CONTEXT: section: General course-related questions\n",
      "question: Course - Can I still join the course after the start date?\n",
      "answer: Yes, even if you don't register, you're still eligible to submit the homeworks.\n",
      "Be aware, however, that there will be deadlines for turning in the final projects. So don't leave everything for the last minute.\n",
      "\n",
      "section: General course-related questions\n",
      "question: Course - Can I follow the course after it finishes?\n",
      "answer: Yes, we will keep all the materials after the course finishes, so you can follow the course at your own pace after it finishes.\n",
      "You can also continue looking at the homeworks and continue preparing for the next cohort. I guess you can also start working on your final capstone project.\n",
      "\n",
      "section: General course-related questions\n",
      "question: Course - When will the course start?\n",
      "answer: The purpose of this document is to capture frequently asked technical questions\n",
      "The exact day and hour of the course will be 15th Jan 2024 at 17h00. The course will start with the first  “Office Hours'' live.1\n",
      "Subscribe to course public Google Calendar (it works from Desktop only).\n",
      "Register before the course starts using this link.\n",
      "Join the course Telegram channel with announcements.\n",
      "Don’t forget to register in DataTalks.Club's Slack and join the channel.\n",
      "\n",
      "section: General course-related questions\n",
      "question: Course - What can I do before the course starts?\n",
      "answer: You can start by installing and setting up all the dependencies and requirements:\n",
      "Google cloud account\n",
      "Google Cloud SDK\n",
      "Python 3 (installed with Anaconda)\n",
      "Terraform\n",
      "Git\n",
      "Look over the prerequisites and syllabus to see if you are comfortable with these subjects.\n",
      "\n",
      "section: General course-related questions\n",
      "question: Course - Can I get support if I take the course in the self-paced mode?\n",
      "answer: Yes, the slack channel remains open and you can ask questions there. But always sDocker containers exit code w search the channel first and second, check the FAQ (this document), most likely all your questions are already answered here.\n",
      "You can also tag the bot @ZoomcampQABot to help you conduct the search, but don’t rely on its answers 100%, it is pretty good though.\n"
     ]
    }
   ],
   "source": [
    "print(prompt)"
   ]
  },
  {
   "cell_type": "code",
   "execution_count": 48,
   "id": "380f1301-f5f1-4d7f-b7e8-1eb90131118b",
   "metadata": {},
   "outputs": [
    {
     "data": {
      "text/plain": [
       "'Yes, you can still enroll and submit homework. However, be mindful of the deadlines for turning in final projects.'"
      ]
     },
     "execution_count": 48,
     "metadata": {},
     "output_type": "execute_result"
    }
   ],
   "source": [
    "response=client.chat(\n",
    "    message=prompt\n",
    ")\n",
    "response.text"
   ]
  },
  {
   "cell_type": "markdown",
   "id": "18f90941-b597-4b90-a611-56f3fe3e1edb",
   "metadata": {},
   "source": [
    "## Modularization"
   ]
  },
  {
   "cell_type": "code",
   "execution_count": 49,
   "id": "35b0d4b3-0832-4f45-8d4e-9769deff4262",
   "metadata": {},
   "outputs": [],
   "source": [
    "def search(query):\n",
    "    boost = {'question': 3.0, 'section': 0.5}\n",
    "\n",
    "    results=index.search(\n",
    "        query=query,\n",
    "        filter_dict={'course': 'data-engineering-zoomcamp'},\n",
    "        boost_dict=boost,\n",
    "        num_results=5\n",
    "    )\n",
    "    return results"
   ]
  },
  {
   "cell_type": "code",
   "execution_count": 62,
   "id": "dc39c746-b68f-4492-b99e-395ef7e46891",
   "metadata": {},
   "outputs": [],
   "source": [
    "def build_prompt(query, search_results):\n",
    "    prompt_template=\"\"\"\n",
    "    You're a course teaching assistant. Answer the QUESTION based on the CONTEXT from the FAQ database.\n",
    "    Use only facts from the CONTEXT when answering the QUESTION.\n",
    "    If the CONTEXT doesn't contain the answer, output NONE\n",
    "    \n",
    "    QUESTION:{question}\n",
    "    \n",
    "    CONTEXT: {context}\n",
    "    \"\"\".strip()\n",
    "\n",
    "    context = \"\"\n",
    "\n",
    "    for doc in results:\n",
    "        context = context + f\"section: {doc['section']}\\nquestion: {doc['question']}\\nanswer: {doc['text']}\\n\\n\"\n",
    "\n",
    "    prompt=prompt_template.format(question=query, context=search_results).strip()\n",
    "    return prompt"
   ]
  },
  {
   "cell_type": "code",
   "execution_count": 63,
   "id": "586a820a-be4f-4f75-a687-82de1ca7f4e9",
   "metadata": {},
   "outputs": [],
   "source": [
    "def llm(prompt):\n",
    "    response=client.chat(\n",
    "    message=prompt\n",
    "    )\n",
    "    return response.text"
   ]
  },
  {
   "cell_type": "code",
   "execution_count": 64,
   "id": "6b14e7f3-59fc-4990-be3c-d2da06bd6683",
   "metadata": {},
   "outputs": [
    {
     "data": {
      "text/plain": [
       "\"To run Kafka in the terminal, you can follow these steps, depending on the specific context: \\n\\n**For Java Kafka:**\\nIn the project directory, run the following command:\\n```\\njava -cp build/libs/<jar_name>-1.0-SNAPSHOT.jar:out src/main/java/org/example/JsonProducer.java\\n```\\n\\n**For Python Kafka:**\\n1. Create a virtual environment and install the necessary packages:\\n```\\npython -m venv env\\nsource env/bin/activate\\npip install -r ../requirements.txt\\n```\\n2. Activate the virtual environment each time before running the Python files:\\n```\\nsource env/bin/activate\\n```\\n3. Deactivate the virtual environment when you're done:\\n```\\ndeactivate\\n```\\nNote: The path to activate the virtual environment might be slightly different on Windows (env/Scripts/activate).\\n\\n**For Python Kafka Permission Denied Error:**\\nRun the following command in the terminal, in the /docker/spark directory:\\n```\\nchmod +x build.sh\\n```\\n\\n**For ModuleNotFoundError regarding kafka.vendor.six.moves:**\\nUse the following command to install kafka-python-ng instead:\\n```\\npip install kafka-python-ng\\n```\""
      ]
     },
     "execution_count": 64,
     "metadata": {},
     "output_type": "execute_result"
    }
   ],
   "source": [
    "query='how do i run kafka?'\n",
    "search_results = search(query)\n",
    "prompt=build_prompt(query, search_results)\n",
    "answer=llm(prompt)\n",
    "answer"
   ]
  },
  {
   "cell_type": "code",
   "execution_count": 65,
   "id": "ff049782-0255-42ae-90a0-ee3a4980d387",
   "metadata": {},
   "outputs": [
    {
     "name": "stdout",
     "output_type": "stream",
     "text": [
      "To run Kafka in the terminal, you can follow these steps, depending on the specific context: \n",
      "\n",
      "**For Java Kafka:**\n",
      "In the project directory, run the following command:\n",
      "```\n",
      "java -cp build/libs/<jar_name>-1.0-SNAPSHOT.jar:out src/main/java/org/example/JsonProducer.java\n",
      "```\n",
      "\n",
      "**For Python Kafka:**\n",
      "1. Create a virtual environment and install the necessary packages:\n",
      "```\n",
      "python -m venv env\n",
      "source env/bin/activate\n",
      "pip install -r ../requirements.txt\n",
      "```\n",
      "2. Activate the virtual environment each time before running the Python files:\n",
      "```\n",
      "source env/bin/activate\n",
      "```\n",
      "3. Deactivate the virtual environment when you're done:\n",
      "```\n",
      "deactivate\n",
      "```\n",
      "Note: The path to activate the virtual environment might be slightly different on Windows (env/Scripts/activate).\n",
      "\n",
      "**For Python Kafka Permission Denied Error:**\n",
      "Run the following command in the terminal, in the /docker/spark directory:\n",
      "```\n",
      "chmod +x build.sh\n",
      "```\n",
      "\n",
      "**For ModuleNotFoundError regarding kafka.vendor.six.moves:**\n",
      "Use the following command to install kafka-python-ng instead:\n",
      "```\n",
      "pip install kafka-python-ng\n",
      "```\n"
     ]
    }
   ],
   "source": [
    "print(answer)"
   ]
  },
  {
   "cell_type": "code",
   "execution_count": 66,
   "id": "c426a85f-c3db-4ba2-8b8f-9a71cac7b76f",
   "metadata": {},
   "outputs": [],
   "source": [
    "def rag(query):\n",
    "    search_results = search(query)\n",
    "    prompt=build_prompt(query, search_results)\n",
    "    answer=llm(prompt)\n",
    "    return answer"
   ]
  },
  {
   "cell_type": "code",
   "execution_count": 67,
   "id": "a62e83ae-6513-4d19-b4f3-614ec2e55aab",
   "metadata": {},
   "outputs": [
    {
     "name": "stdout",
     "output_type": "stream",
     "text": [
      "To run Kafka in the terminal, you can follow these steps, depending on the specific context: \n",
      "\n",
      "**For Java Kafka:**\n",
      "In the project directory, run the following command:\n",
      "```\n",
      "java -cp build/libs/<jar_name>-1.0-SNAPSHOT.jar:out src/main/java/org/example/JsonProducer.java\n",
      "```\n",
      "\n",
      "**For Python Kafka:**\n",
      "1. Create a virtual environment and install the necessary packages:\n",
      "```\n",
      "python -m venv env\n",
      "source env/bin/activate\n",
      "pip install -r ../requirements.txt\n",
      "```\n",
      "2. Activate the virtual environment each time before running Python files:\n",
      "```\n",
      "source env/bin/activate\n",
      "```\n",
      "3. Deactivate the virtual environment when you're done:\n",
      "```\n",
      "deactivate\n",
      "```\n",
      "Note: The path for activation might vary slightly on Windows (env/Scripts/activate).\n",
      "\n",
      "**Additional Notes:**\n",
      "- Ensure that Docker images are up and running before creating the virtual environment.\n",
      "- To fix the \"ModuleNotFoundError: No module named 'kafka.vendor.six.moves'\" error, use the following command:\n",
      "```\n",
      "pip install kafka-python-ng\n",
      "```\n"
     ]
    }
   ],
   "source": [
    "print(rag(query))"
   ]
  },
  {
   "cell_type": "code",
   "execution_count": 68,
   "id": "11991427-7208-4017-b118-444d9caee9a9",
   "metadata": {},
   "outputs": [
    {
     "name": "stdout",
     "output_type": "stream",
     "text": [
      "Yes, you can still enroll in the course even after it has started. You are still eligible to submit homework, but be mindful of the deadlines for turning in final projects.\n"
     ]
    }
   ],
   "source": [
    "print(rag('the course has already started, can i still enroll?'))"
   ]
  },
  {
   "cell_type": "markdown",
   "id": "8b903e9c-ac94-471a-88e8-c7cd3cc7fb54",
   "metadata": {},
   "source": [
    "## Elasticsearch"
   ]
  },
  {
   "cell_type": "code",
   "execution_count": 69,
   "id": "6b76511c-9b9c-4d1e-970b-e4771eea4c84",
   "metadata": {},
   "outputs": [],
   "source": [
    "from elasticsearch import Elasticsearch"
   ]
  },
  {
   "cell_type": "code",
   "execution_count": 70,
   "id": "134f2032-8f71-4b28-8f8e-0dc1ae6da620",
   "metadata": {},
   "outputs": [],
   "source": [
    "es = Elasticsearch('http://localhost:9200')"
   ]
  },
  {
   "cell_type": "code",
   "execution_count": 73,
   "id": "3478a804-b3e9-45a5-8deb-32f2ad621b8a",
   "metadata": {},
   "outputs": [
    {
     "data": {
      "text/plain": [
       "ObjectApiResponse({'acknowledged': True, 'shards_acknowledged': True, 'index': 'course-questions'})"
      ]
     },
     "execution_count": 73,
     "metadata": {},
     "output_type": "execute_result"
    }
   ],
   "source": [
    "index_settings = {\n",
    "    \"settings\": {\n",
    "        \"number_of_shards\": 1,\n",
    "        \"number_of_replicas\": 0\n",
    "    },\n",
    "    \"mappings\": {\n",
    "        \"properties\": {\n",
    "            \"text\": {\"type\": \"text\"},\n",
    "            \"section\": {\"type\": \"text\"},\n",
    "            \"question\": {\"type\": \"text\"},\n",
    "            \"course\": {\"type\": \"keyword\"} \n",
    "        }\n",
    "    }\n",
    "}\n",
    "\n",
    "index_name='course-questions'\n",
    "\n",
    "es.indices.create(index=index_name, body=index_settings)"
   ]
  },
  {
   "cell_type": "code",
   "execution_count": 74,
   "id": "257f6678-8a43-4d1c-9b51-306cdcca27f0",
   "metadata": {},
   "outputs": [
    {
     "name": "stderr",
     "output_type": "stream",
     "text": [
      "/usr/local/python/3.10.13/lib/python3.10/site-packages/tqdm/auto.py:21: TqdmWarning: IProgress not found. Please update jupyter and ipywidgets. See https://ipywidgets.readthedocs.io/en/stable/user_install.html\n",
      "  from .autonotebook import tqdm as notebook_tqdm\n"
     ]
    }
   ],
   "source": [
    "from tqdm.auto import tqdm"
   ]
  },
  {
   "cell_type": "code",
   "execution_count": 75,
   "id": "1bee5902-0194-4cdc-902a-23f10e64a871",
   "metadata": {},
   "outputs": [
    {
     "name": "stderr",
     "output_type": "stream",
     "text": [
      "100%|█████████████████████████████████████████████████████| 948/948 [00:23<00:00, 41.12it/s]\n"
     ]
    }
   ],
   "source": [
    "for doc in tqdm(documents):\n",
    "    es.index(index=index_name, document=doc)"
   ]
  },
  {
   "cell_type": "code",
   "execution_count": 76,
   "id": "0cb9268b-43ca-439d-9a88-6f9b8a80399e",
   "metadata": {},
   "outputs": [],
   "source": [
    "query = 'I just discovered the course. Can I still join it?'"
   ]
  },
  {
   "cell_type": "code",
   "execution_count": 77,
   "id": "2386e437-5541-4299-8c3d-7e510dbeb7ee",
   "metadata": {},
   "outputs": [],
   "source": [
    "search_query = {\n",
    "    \"size\": 5,\n",
    "    \"query\": {\n",
    "        \"bool\": {\n",
    "            \"must\": {\n",
    "                \"multi_match\": {\n",
    "                    \"query\": query,\n",
    "                    \"fields\": [\"question^3\", \"text\", \"section\"],\n",
    "                    \"type\": \"best_fields\"\n",
    "                }\n",
    "            },\n",
    "            \"filter\": {\n",
    "                \"term\": {\n",
    "                    \"course\": \"data-engineering-zoomcamp\"\n",
    "                }\n",
    "            }\n",
    "        }\n",
    "    }\n",
    "}"
   ]
  },
  {
   "cell_type": "code",
   "execution_count": 79,
   "id": "9a1033b9-9b06-4638-8c7f-f55c95c0aa2e",
   "metadata": {},
   "outputs": [],
   "source": [
    "response=es.search(index=index_name, body=search_query)"
   ]
  },
  {
   "cell_type": "code",
   "execution_count": 82,
   "id": "2a5d24d5-41b1-446f-aa63-d4a264992daa",
   "metadata": {},
   "outputs": [],
   "source": [
    "result_docs = []\n",
    "for hit in response['hits']['hits']:\n",
    "    result_docs.append(hit['_source'])"
   ]
  },
  {
   "cell_type": "code",
   "execution_count": 83,
   "id": "b3ed7009-f2c5-4c56-a2c8-e937e92202a5",
   "metadata": {},
   "outputs": [
    {
     "data": {
      "text/plain": [
       "[{'text': \"Yes, even if you don't register, you're still eligible to submit the homeworks.\\nBe aware, however, that there will be deadlines for turning in the final projects. So don't leave everything for the last minute.\",\n",
       "  'section': 'General course-related questions',\n",
       "  'question': 'Course - Can I still join the course after the start date?',\n",
       "  'course': 'data-engineering-zoomcamp'},\n",
       " {'text': 'Yes, we will keep all the materials after the course finishes, so you can follow the course at your own pace after it finishes.\\nYou can also continue looking at the homeworks and continue preparing for the next cohort. I guess you can also start working on your final capstone project.',\n",
       "  'section': 'General course-related questions',\n",
       "  'question': 'Course - Can I follow the course after it finishes?',\n",
       "  'course': 'data-engineering-zoomcamp'},\n",
       " {'text': 'You can start by installing and setting up all the dependencies and requirements:\\nGoogle cloud account\\nGoogle Cloud SDK\\nPython 3 (installed with Anaconda)\\nTerraform\\nGit\\nLook over the prerequisites and syllabus to see if you are comfortable with these subjects.',\n",
       "  'section': 'General course-related questions',\n",
       "  'question': 'Course - What can I do before the course starts?',\n",
       "  'course': 'data-engineering-zoomcamp'},\n",
       " {'text': 'Yes, the slack channel remains open and you can ask questions there. But always sDocker containers exit code w search the channel first and second, check the FAQ (this document), most likely all your questions are already answered here.\\nYou can also tag the bot @ZoomcampQABot to help you conduct the search, but don’t rely on its answers 100%, it is pretty good though.',\n",
       "  'section': 'General course-related questions',\n",
       "  'question': 'Course - Can I get support if I take the course in the self-paced mode?',\n",
       "  'course': 'data-engineering-zoomcamp'},\n",
       " {'text': \"You don't need it. You're accepted. You can also just start learning and submitting homework without registering. It is not checked against any registered list. Registration is just to gauge interest before the start date.\",\n",
       "  'section': 'General course-related questions',\n",
       "  'question': 'Course - I have registered for the Data Engineering Bootcamp. When can I expect to receive the confirmation email?',\n",
       "  'course': 'data-engineering-zoomcamp'}]"
      ]
     },
     "execution_count": 83,
     "metadata": {},
     "output_type": "execute_result"
    }
   ],
   "source": [
    "result_docs"
   ]
  },
  {
   "cell_type": "code",
   "execution_count": 84,
   "id": "ea41b845-74ff-414d-aa50-4d0d5e278152",
   "metadata": {},
   "outputs": [],
   "source": [
    "def elastic_search(query):\n",
    "    search_query = {\n",
    "        \"size\": 5,\n",
    "        \"query\": {\n",
    "            \"bool\": {\n",
    "                \"must\": {\n",
    "                    \"multi_match\": {\n",
    "                        \"query\": query,\n",
    "                        \"fields\": [\"question^3\", \"text\", \"section\"],\n",
    "                        \"type\": \"best_fields\"\n",
    "                    }\n",
    "                },\n",
    "                \"filter\": {\n",
    "                    \"term\": {\n",
    "                        \"course\": \"data-engineering-zoomcamp\"\n",
    "                    }\n",
    "                }\n",
    "            }\n",
    "        }\n",
    "    }\n",
    "\n",
    "    response=es.search(index=index_name, body=search_query)\n",
    "\n",
    "    result_docs = []\n",
    "    for hit in response['hits']['hits']:\n",
    "        result_docs.append(hit['_source'])\n",
    "    return result_docs"
   ]
  },
  {
   "cell_type": "code",
   "execution_count": 85,
   "id": "17301a46-b274-4a3b-8b5a-16f21f962fda",
   "metadata": {},
   "outputs": [],
   "source": [
    "def rag2(query):\n",
    "    search_results = elastic_search(query)\n",
    "    prompt=build_prompt(query, search_results)\n",
    "    answer=llm(prompt)\n",
    "    return answer"
   ]
  },
  {
   "cell_type": "code",
   "execution_count": 86,
   "id": "52e7192d-532b-416d-ac49-5537255f6137",
   "metadata": {},
   "outputs": [
    {
     "data": {
      "text/plain": [
       "\"Yes, you can still join the course even if you haven't registered. You can submit homework and follow the course at your own pace, even after it finishes. However, keep in mind the deadlines for turning in final projects.\""
      ]
     },
     "execution_count": 86,
     "metadata": {},
     "output_type": "execute_result"
    }
   ],
   "source": [
    "rag2(query)"
   ]
  },
  {
   "cell_type": "markdown",
   "id": "9c829968-b158-4092-a7a1-da6b7d920bb0",
   "metadata": {},
   "source": [
    "# Homework"
   ]
  },
  {
   "cell_type": "markdown",
   "id": "5082f2e2-54fe-4e55-bd4f-7862a7bf31a2",
   "metadata": {},
   "source": [
    "## Q1"
   ]
  },
  {
   "cell_type": "code",
   "execution_count": 89,
   "id": "e6c7f28e-cebb-4188-bfc1-ef06f1aed0d2",
   "metadata": {},
   "outputs": [
    {
     "data": {
      "text/plain": [
       "ObjectApiResponse({'name': '33154be37275', 'cluster_name': 'docker-cluster', 'cluster_uuid': '3sXDSWhuQiuEEcexqYiXMA', 'version': {'number': '8.4.3', 'build_flavor': 'default', 'build_type': 'docker', 'build_hash': '42f05b9372a9a4a470db3b52817899b99a76ee73', 'build_date': '2022-10-04T07:17:24.662462378Z', 'build_snapshot': False, 'lucene_version': '9.3.0', 'minimum_wire_compatibility_version': '7.17.0', 'minimum_index_compatibility_version': '7.0.0'}, 'tagline': 'You Know, for Search'})"
      ]
     },
     "execution_count": 89,
     "metadata": {},
     "output_type": "execute_result"
    }
   ],
   "source": [
    "es.info()"
   ]
  },
  {
   "cell_type": "markdown",
   "id": "42701f08-93e3-4701-9863-3c445b04f2de",
   "metadata": {},
   "source": [
    "## Q2"
   ]
  },
  {
   "cell_type": "markdown",
   "id": "a4fed6c7-5616-4eb5-b205-24351351187a",
   "metadata": {},
   "source": [
    "Adding data to elasticsearch requires `index`"
   ]
  },
  {
   "cell_type": "markdown",
   "id": "882a72ef-ca89-4aef-8ec8-1a8213349487",
   "metadata": {},
   "source": [
    "## Q3"
   ]
  },
  {
   "cell_type": "code",
   "execution_count": 90,
   "id": "aa354429-1e22-42a3-bb81-304f1dd1becb",
   "metadata": {},
   "outputs": [],
   "source": [
    "query = 'How do I execute a command in a running docker container?'"
   ]
  },
  {
   "cell_type": "code",
   "execution_count": 100,
   "id": "d001d4a5-11f6-4031-b696-caa17982b9bd",
   "metadata": {},
   "outputs": [],
   "source": [
    "search_query = {\n",
    "    \"size\": 5,\n",
    "    \"query\": {\n",
    "        \"bool\": {\n",
    "            \"must\": {\n",
    "                \"multi_match\": {\n",
    "                    \"query\": query,\n",
    "                    \"fields\": [\"question^4\", \"text\"],\n",
    "                    \"type\": \"best_fields\"\n",
    "                }\n",
    "            },\n",
    "            #\"filter\": {\n",
    "            #    \"term\": {\n",
    "            #        \"course\": \"data-engineering-zoomcamp\"\n",
    "            #    }\n",
    "            #}\n",
    "        }\n",
    "    }\n",
    "}\n",
    "\n",
    "response=es.search(index=index_name, body=search_query)"
   ]
  },
  {
   "cell_type": "code",
   "execution_count": 101,
   "id": "a6c299c1-65a8-4849-bf0f-5209c883b8c9",
   "metadata": {},
   "outputs": [
    {
     "data": {
      "text/plain": [
       "{'took': 7,\n",
       " 'timed_out': False,\n",
       " '_shards': {'total': 1, 'successful': 1, 'skipped': 0, 'failed': 0},\n",
       " 'hits': {'total': {'value': 865, 'relation': 'eq'},\n",
       "  'max_score': 84.050095,\n",
       "  'hits': [{'_index': 'course-questions',\n",
       "    '_id': 'Lz-8YJABMkm3_fCZnBYP',\n",
       "    '_score': 84.050095,\n",
       "    '_source': {'text': 'Launch the container image in interactive mode and overriding the entrypoint, so that it starts a bash command.\\ndocker run -it --entrypoint bash <image>\\nIf the container is already running, execute a command in the specific container:\\ndocker ps (find the container-id)\\ndocker exec -it <container-id> bash\\n(Marcos MJD)',\n",
       "     'section': '5. Deploying Machine Learning Models',\n",
       "     'question': 'How do I debug a docker container?',\n",
       "     'course': 'machine-learning-zoomcamp'}},\n",
       "   {'_index': 'course-questions',\n",
       "    '_id': 'PT-8YJABMkm3_fCZbBSs',\n",
       "    '_score': 75.54128,\n",
       "    '_source': {'text': 'In case running pgcli  locally causes issues or you do not want to install it locally you can use it running in a Docker container instead.\\nBelow the usage with values used in the videos of the course for:\\nnetwork name (docker network)\\npostgres related variables for pgcli\\nHostname\\nUsername\\nPort\\nDatabase name\\n$ docker run -it --rm --network pg-network ai2ys/dockerized-pgcli:4.0.1\\n175dd47cda07:/# pgcli -h pg-database -U root -p 5432 -d ny_taxi\\nPassword for root:\\nServer: PostgreSQL 16.1 (Debian 16.1-1.pgdg120+1)\\nVersion: 4.0.1\\nHome: http://pgcli.com\\nroot@pg-database:ny_taxi> \\\\dt\\n+--------+------------------+-------+-------+\\n| Schema | Name             | Type  | Owner |\\n|--------+------------------+-------+-------|\\n| public | yellow_taxi_data | table | root  |\\n+--------+------------------+-------+-------+\\nSELECT 1\\nTime: 0.009s\\nroot@pg-database:ny_taxi>',\n",
       "     'section': 'Module 1: Docker and Terraform',\n",
       "     'question': 'PGCLI - running in a Docker container',\n",
       "     'course': 'data-engineering-zoomcamp'}},\n",
       "   {'_index': 'course-questions',\n",
       "    '_id': 'Xj-8YJABMkm3_fCZuBdw',\n",
       "    '_score': 72.08518,\n",
       "    '_source': {'text': 'If you are trying to run Flask gunicorn & MLFlow server from the same container, defining both in Dockerfile with CMD will only run MLFlow & not Flask.\\nSolution: Create separate shell script with server run commands, for eg:\\n> \\tscript1.sh\\n#!/bin/bash\\ngunicorn --bind=0.0.0.0:9696 predict:app\\nAnother script with e.g. MLFlow server:\\n>\\tscript2.sh\\n#!/bin/bash\\nmlflow server -h 0.0.0.0 -p 5000 --backend-store-uri=sqlite:///mlflow.db --default-artifact-root=g3://zc-bucket/mlruns/\\nCreate a wrapper script to run above 2 scripts:\\n>\\twrapper_script.sh\\n#!/bin/bash\\n# Start the first process\\n./script1.sh &\\n# Start the second process\\n./script2.sh &\\n# Wait for any process to exit\\nwait -n\\n# Exit with status of process that exited first\\nexit $?\\nGive executable permissions to all scripts:\\nchmod +x *.sh\\nNow we can define last line of Dockerfile as:\\n> \\tDockerfile\\nCMD ./wrapper_script.sh\\nDont forget to expose all ports defined by services!',\n",
       "     'section': 'Module 4: Deployment',\n",
       "     'question': 'Running multiple services in a Docker container',\n",
       "     'course': 'mlops-zoomcamp'}},\n",
       "   {'_index': 'course-questions',\n",
       "    '_id': 'Tj-8YJABMkm3_fCZnhb6',\n",
       "    '_score': 51.04628,\n",
       "    '_source': {'text': \"You can copy files from your local machine into a Docker container using the docker cp command. Here's how to do it:\\nTo copy a file or directory from your local machine into a running Docker container, you can use the `docker cp command`. The basic syntax is as follows:\\ndocker cp /path/to/local/file_or_directory container_id:/path/in/container\\nHrithik Kumar Advani\",\n",
       "     'section': '5. Deploying Machine Learning Models',\n",
       "     'question': 'How do I copy files from my local machine to docker container?',\n",
       "     'course': 'machine-learning-zoomcamp'}},\n",
       "   {'_index': 'course-questions',\n",
       "    '_id': 'Tz-8YJABMkm3_fCZnxYS',\n",
       "    '_score': 49.938507,\n",
       "    '_source': {'text': 'You can copy files from your local machine into a Docker container using the docker cp command. Here\\'s how to do it:\\nIn the Dockerfile, you can provide the folder containing the files that you want to copy over. The basic syntax is as follows:\\nCOPY [\"src/predict.py\", \"models/xgb_model.bin\", \"./\"]\\t\\t\\t\\t\\t\\t\\t\\t\\t\\t\\tGopakumar Gopinathan',\n",
       "     'section': '5. Deploying Machine Learning Models',\n",
       "     'question': 'How do I copy files from a different folder into docker container’s working directory?',\n",
       "     'course': 'machine-learning-zoomcamp'}}]}}"
      ]
     },
     "execution_count": 101,
     "metadata": {},
     "output_type": "execute_result"
    }
   ],
   "source": [
    "dict(response)"
   ]
  },
  {
   "cell_type": "markdown",
   "id": "b0b2eb38-b1b1-47dc-8ad0-6057862c112c",
   "metadata": {},
   "source": [
    "## Q4"
   ]
  },
  {
   "cell_type": "code",
   "execution_count": 102,
   "id": "45068ed9-9285-489b-bc2f-bee70aa66d7d",
   "metadata": {},
   "outputs": [],
   "source": [
    "search_query = {\n",
    "    \"size\": 5,\n",
    "    \"query\": {\n",
    "        \"bool\": {\n",
    "            \"must\": {\n",
    "                \"multi_match\": {\n",
    "                    \"query\": query,\n",
    "                    \"fields\": [\"question^4\", \"text\"],\n",
    "                    \"type\": \"best_fields\"\n",
    "                }\n",
    "            },\n",
    "            \"filter\": {\n",
    "                \"term\": {\n",
    "                    \"course\": \"machine-learning-zoomcamp\"\n",
    "                }\n",
    "            }\n",
    "        }\n",
    "    }\n",
    "}\n",
    "\n",
    "response=es.search(index=index_name, body=search_query)"
   ]
  },
  {
   "cell_type": "code",
   "execution_count": 103,
   "id": "3136bd52-418a-4409-8c23-9ef8af080f91",
   "metadata": {},
   "outputs": [
    {
     "data": {
      "text/plain": [
       "{'took': 7,\n",
       " 'timed_out': False,\n",
       " '_shards': {'total': 1, 'successful': 1, 'skipped': 0, 'failed': 0},\n",
       " 'hits': {'total': {'value': 345, 'relation': 'eq'},\n",
       "  'max_score': 84.050095,\n",
       "  'hits': [{'_index': 'course-questions',\n",
       "    '_id': 'Lz-8YJABMkm3_fCZnBYP',\n",
       "    '_score': 84.050095,\n",
       "    '_source': {'text': 'Launch the container image in interactive mode and overriding the entrypoint, so that it starts a bash command.\\ndocker run -it --entrypoint bash <image>\\nIf the container is already running, execute a command in the specific container:\\ndocker ps (find the container-id)\\ndocker exec -it <container-id> bash\\n(Marcos MJD)',\n",
       "     'section': '5. Deploying Machine Learning Models',\n",
       "     'question': 'How do I debug a docker container?',\n",
       "     'course': 'machine-learning-zoomcamp'}},\n",
       "   {'_index': 'course-questions',\n",
       "    '_id': 'Tj-8YJABMkm3_fCZnhb6',\n",
       "    '_score': 51.04628,\n",
       "    '_source': {'text': \"You can copy files from your local machine into a Docker container using the docker cp command. Here's how to do it:\\nTo copy a file or directory from your local machine into a running Docker container, you can use the `docker cp command`. The basic syntax is as follows:\\ndocker cp /path/to/local/file_or_directory container_id:/path/in/container\\nHrithik Kumar Advani\",\n",
       "     'section': '5. Deploying Machine Learning Models',\n",
       "     'question': 'How do I copy files from my local machine to docker container?',\n",
       "     'course': 'machine-learning-zoomcamp'}},\n",
       "   {'_index': 'course-questions',\n",
       "    '_id': 'Tz-8YJABMkm3_fCZnxYS',\n",
       "    '_score': 49.938507,\n",
       "    '_source': {'text': 'You can copy files from your local machine into a Docker container using the docker cp command. Here\\'s how to do it:\\nIn the Dockerfile, you can provide the folder containing the files that you want to copy over. The basic syntax is as follows:\\nCOPY [\"src/predict.py\", \"models/xgb_model.bin\", \"./\"]\\t\\t\\t\\t\\t\\t\\t\\t\\t\\t\\tGopakumar Gopinathan',\n",
       "     'section': '5. Deploying Machine Learning Models',\n",
       "     'question': 'How do I copy files from a different folder into docker container’s working directory?',\n",
       "     'course': 'machine-learning-zoomcamp'}},\n",
       "   {'_index': 'course-questions',\n",
       "    '_id': 'MD-8YJABMkm3_fCZnBYn',\n",
       "    '_score': 45.275463,\n",
       "    '_source': {'text': \"$ docker exec -it 1e5a1b663052 bash\\nthe input device is not a TTY.  If you are using mintty, try prefixing the command with 'winpty'\\nFix:\\nwinpty docker exec -it 1e5a1b663052 bash\\nA TTY is a terminal interface that supports escape sequences, moving the cursor around, etc.\\nWinpty is a Windows software package providing an interface similar to a Unix pty-master for communicating with Windows console programs.\\nMore info on terminal, shell, console applications hi and so on:\\nhttps://conemu.github.io/en/TerminalVsShell.html\\n(Marcos MJD)\",\n",
       "     'section': '5. Deploying Machine Learning Models',\n",
       "     'question': 'The input device is not a TTY when running docker in interactive mode (Running Docker on Windows in GitBash)',\n",
       "     'course': 'machine-learning-zoomcamp'}},\n",
       "   {'_index': 'course-questions',\n",
       "    '_id': 'Oj-8YJABMkm3_fCZnRYc',\n",
       "    '_score': 45.255775,\n",
       "    '_source': {'text': 'Solution\\nThis error was because there was another instance of gunicorn running. So I thought of removing this along with the zoomcamp_test image. However, it didn’t let me remove the orphan container. So I did the following\\nRunning the following commands\\ndocker ps -a <to list all docker containers>\\ndocker images <to list images>\\ndocker stop <container ID>\\ndocker rm <container ID>\\ndocker rmi image\\nI rebuilt the Docker image, and ran it once again; this time it worked correctly and I was able to serve the test script to the endpoint.',\n",
       "     'section': '5. Deploying Machine Learning Models',\n",
       "     'question': 'How to fix error after running the Docker run command',\n",
       "     'course': 'machine-learning-zoomcamp'}}]}}"
      ]
     },
     "execution_count": 103,
     "metadata": {},
     "output_type": "execute_result"
    }
   ],
   "source": [
    "dict(response)"
   ]
  },
  {
   "cell_type": "markdown",
   "id": "b0a33817-67dc-42ff-99b8-8056954edb5c",
   "metadata": {},
   "source": [
    "## Q5"
   ]
  },
  {
   "cell_type": "code",
   "execution_count": 107,
   "id": "c989a72f-7882-4fd0-a255-3d4a3f435763",
   "metadata": {},
   "outputs": [
    {
     "data": {
      "text/plain": [
       "[{'_index': 'course-questions',\n",
       "  '_id': 'Lz-8YJABMkm3_fCZnBYP',\n",
       "  '_score': 84.050095,\n",
       "  '_source': {'text': 'Launch the container image in interactive mode and overriding the entrypoint, so that it starts a bash command.\\ndocker run -it --entrypoint bash <image>\\nIf the container is already running, execute a command in the specific container:\\ndocker ps (find the container-id)\\ndocker exec -it <container-id> bash\\n(Marcos MJD)',\n",
       "   'section': '5. Deploying Machine Learning Models',\n",
       "   'question': 'How do I debug a docker container?',\n",
       "   'course': 'machine-learning-zoomcamp'}},\n",
       " {'_index': 'course-questions',\n",
       "  '_id': 'Tj-8YJABMkm3_fCZnhb6',\n",
       "  '_score': 51.04628,\n",
       "  '_source': {'text': \"You can copy files from your local machine into a Docker container using the docker cp command. Here's how to do it:\\nTo copy a file or directory from your local machine into a running Docker container, you can use the `docker cp command`. The basic syntax is as follows:\\ndocker cp /path/to/local/file_or_directory container_id:/path/in/container\\nHrithik Kumar Advani\",\n",
       "   'section': '5. Deploying Machine Learning Models',\n",
       "   'question': 'How do I copy files from my local machine to docker container?',\n",
       "   'course': 'machine-learning-zoomcamp'}},\n",
       " {'_index': 'course-questions',\n",
       "  '_id': 'Tz-8YJABMkm3_fCZnxYS',\n",
       "  '_score': 49.938507,\n",
       "  '_source': {'text': 'You can copy files from your local machine into a Docker container using the docker cp command. Here\\'s how to do it:\\nIn the Dockerfile, you can provide the folder containing the files that you want to copy over. The basic syntax is as follows:\\nCOPY [\"src/predict.py\", \"models/xgb_model.bin\", \"./\"]\\t\\t\\t\\t\\t\\t\\t\\t\\t\\t\\tGopakumar Gopinathan',\n",
       "   'section': '5. Deploying Machine Learning Models',\n",
       "   'question': 'How do I copy files from a different folder into docker container’s working directory?',\n",
       "   'course': 'machine-learning-zoomcamp'}},\n",
       " {'_index': 'course-questions',\n",
       "  '_id': 'MD-8YJABMkm3_fCZnBYn',\n",
       "  '_score': 45.275463,\n",
       "  '_source': {'text': \"$ docker exec -it 1e5a1b663052 bash\\nthe input device is not a TTY.  If you are using mintty, try prefixing the command with 'winpty'\\nFix:\\nwinpty docker exec -it 1e5a1b663052 bash\\nA TTY is a terminal interface that supports escape sequences, moving the cursor around, etc.\\nWinpty is a Windows software package providing an interface similar to a Unix pty-master for communicating with Windows console programs.\\nMore info on terminal, shell, console applications hi and so on:\\nhttps://conemu.github.io/en/TerminalVsShell.html\\n(Marcos MJD)\",\n",
       "   'section': '5. Deploying Machine Learning Models',\n",
       "   'question': 'The input device is not a TTY when running docker in interactive mode (Running Docker on Windows in GitBash)',\n",
       "   'course': 'machine-learning-zoomcamp'}},\n",
       " {'_index': 'course-questions',\n",
       "  '_id': 'Oj-8YJABMkm3_fCZnRYc',\n",
       "  '_score': 45.255775,\n",
       "  '_source': {'text': 'Solution\\nThis error was because there was another instance of gunicorn running. So I thought of removing this along with the zoomcamp_test image. However, it didn’t let me remove the orphan container. So I did the following\\nRunning the following commands\\ndocker ps -a <to list all docker containers>\\ndocker images <to list images>\\ndocker stop <container ID>\\ndocker rm <container ID>\\ndocker rmi image\\nI rebuilt the Docker image, and ran it once again; this time it worked correctly and I was able to serve the test script to the endpoint.',\n",
       "   'section': '5. Deploying Machine Learning Models',\n",
       "   'question': 'How to fix error after running the Docker run command',\n",
       "   'course': 'machine-learning-zoomcamp'}}]"
      ]
     },
     "execution_count": 107,
     "metadata": {},
     "output_type": "execute_result"
    }
   ],
   "source": [
    "results_list = dict(response)['hits']['hits']\n",
    "results_list"
   ]
  },
  {
   "cell_type": "code",
   "execution_count": 108,
   "id": "189723bf-753d-4c5b-b217-7115d08a17e3",
   "metadata": {},
   "outputs": [],
   "source": [
    "context_template = \"\"\"\n",
    "Q: {question}\n",
    "A: {text}\n",
    "\"\"\".strip()"
   ]
  },
  {
   "cell_type": "code",
   "execution_count": 117,
   "id": "95f81a3b-f41f-41f9-8907-39f8816a4f9c",
   "metadata": {},
   "outputs": [],
   "source": [
    "def build_context(results_list):\n",
    "    context_template = \"\"\"\n",
    "    Q: {question}\n",
    "A: {text}\n",
    "\"\"\".strip()\n",
    "    context = \"\"\n",
    "    for result in results_list:\n",
    "        question = result['_source']['question']\n",
    "        answer = result['_source']['text']\n",
    "        context += context_template.format(question=question, text=answer) + \"\\n\\n\"\n",
    "\n",
    "    return context.strip()"
   ]
  },
  {
   "cell_type": "code",
   "execution_count": 118,
   "id": "74283937-77d6-4867-b336-13b96ed11f75",
   "metadata": {},
   "outputs": [
    {
     "name": "stdout",
     "output_type": "stream",
     "text": [
      "Q: How do I debug a docker container?\n",
      "A: Launch the container image in interactive mode and overriding the entrypoint, so that it starts a bash command.\n",
      "docker run -it --entrypoint bash <image>\n",
      "If the container is already running, execute a command in the specific container:\n",
      "docker ps (find the container-id)\n",
      "docker exec -it <container-id> bash\n",
      "(Marcos MJD)\n",
      "\n",
      "Q: How do I copy files from my local machine to docker container?\n",
      "A: You can copy files from your local machine into a Docker container using the docker cp command. Here's how to do it:\n",
      "To copy a file or directory from your local machine into a running Docker container, you can use the `docker cp command`. The basic syntax is as follows:\n",
      "docker cp /path/to/local/file_or_directory container_id:/path/in/container\n",
      "Hrithik Kumar Advani\n",
      "\n",
      "Q: How do I copy files from a different folder into docker container’s working directory?\n",
      "A: You can copy files from your local machine into a Docker container using the docker cp command. Here's how to do it:\n",
      "In the Dockerfile, you can provide the folder containing the files that you want to copy over. The basic syntax is as follows:\n",
      "COPY [\"src/predict.py\", \"models/xgb_model.bin\", \"./\"]\t\t\t\t\t\t\t\t\t\t\tGopakumar Gopinathan\n",
      "\n",
      "Q: The input device is not a TTY when running docker in interactive mode (Running Docker on Windows in GitBash)\n",
      "A: $ docker exec -it 1e5a1b663052 bash\n",
      "the input device is not a TTY.  If you are using mintty, try prefixing the command with 'winpty'\n",
      "Fix:\n",
      "winpty docker exec -it 1e5a1b663052 bash\n",
      "A TTY is a terminal interface that supports escape sequences, moving the cursor around, etc.\n",
      "Winpty is a Windows software package providing an interface similar to a Unix pty-master for communicating with Windows console programs.\n",
      "More info on terminal, shell, console applications hi and so on:\n",
      "https://conemu.github.io/en/TerminalVsShell.html\n",
      "(Marcos MJD)\n",
      "\n",
      "Q: How to fix error after running the Docker run command\n",
      "A: Solution\n",
      "This error was because there was another instance of gunicorn running. So I thought of removing this along with the zoomcamp_test image. However, it didn’t let me remove the orphan container. So I did the following\n",
      "Running the following commands\n",
      "docker ps -a <to list all docker containers>\n",
      "docker images <to list images>\n",
      "docker stop <container ID>\n",
      "docker rm <container ID>\n",
      "docker rmi image\n",
      "I rebuilt the Docker image, and ran it once again; this time it worked correctly and I was able to serve the test script to the endpoint.\n"
     ]
    }
   ],
   "source": [
    "context = build_context(results_list)\n",
    "print(context)"
   ]
  },
  {
   "cell_type": "code",
   "execution_count": 119,
   "id": "9ba06a3e-e16b-4b03-a739-bfb4a4eecd79",
   "metadata": {},
   "outputs": [
    {
     "data": {
      "text/plain": [
       "2470"
      ]
     },
     "execution_count": 119,
     "metadata": {},
     "output_type": "execute_result"
    }
   ],
   "source": [
    "len(context)"
   ]
  },
  {
   "cell_type": "code",
   "execution_count": 120,
   "id": "854d5462-c7b7-4b33-b9d3-aca551e212c8",
   "metadata": {},
   "outputs": [],
   "source": [
    "prompt_template = \"\"\"\n",
    "You're a course teaching assistant. Answer the QUESTION based on the CONTEXT from the FAQ database.\n",
    "Use only the facts from the CONTEXT when answering the QUESTION.\n",
    "\n",
    "QUESTION: {question}\n",
    "\n",
    "CONTEXT:\n",
    "{context}\n",
    "\"\"\".strip()"
   ]
  },
  {
   "cell_type": "code",
   "execution_count": 121,
   "id": "9380c20f-c72c-42c4-9d6b-cd763ae497ef",
   "metadata": {},
   "outputs": [],
   "source": [
    "prompt=prompt_template.format(question=query, context=context).strip()"
   ]
  },
  {
   "cell_type": "code",
   "execution_count": 122,
   "id": "29663b4e-c4d4-47d2-861b-2b2f3c44a7cf",
   "metadata": {},
   "outputs": [
    {
     "data": {
      "text/plain": [
       "2714"
      ]
     },
     "execution_count": 122,
     "metadata": {},
     "output_type": "execute_result"
    }
   ],
   "source": [
    "len(prompt)"
   ]
  },
  {
   "cell_type": "markdown",
   "id": "6b1c5dda-f3d8-4d47-9fa7-33c7e566ab6d",
   "metadata": {},
   "source": [
    "## Q6"
   ]
  },
  {
   "cell_type": "code",
   "execution_count": 124,
   "id": "f4ac2714-44a5-4145-881c-de3c1150fe8a",
   "metadata": {},
   "outputs": [],
   "source": [
    "tokenize = client.tokenize(text=prompt, model='command')"
   ]
  },
  {
   "cell_type": "code",
   "execution_count": 126,
   "id": "efdc3811-93c9-4b8e-89f5-6606bcb9521a",
   "metadata": {},
   "outputs": [
    {
     "name": "stdout",
     "output_type": "stream",
     "text": [
      "tokens=[3375, 2516, 1675, 3428, 6955, 9940, 21, 33183, 1682, 75089, 4222, 3103, 1748, 1682, 7130, 21477, 1855, 1682, 26446, 7671, 21, 206, 10431, 2222, 1682, 11285, 1855, 1682, 7130, 21477, 2112, 22968, 1682, 75089, 4222, 21, 206, 206, 7047, 9759, 4222, 33, 2852, 1978, 1744, 13455, 1675, 5220, 1703, 1675, 4494, 28769, 9199, 38, 206, 206, 46451, 33, 206, 56, 33, 2852, 1978, 1744, 16282, 1675, 28769, 9199, 38, 206, 40, 33, 28014, 1682, 9199, 4406, 1703, 11947, 6735, 1708, 58070, 1682, 6271, 4827, 19, 2006, 1769, 1784, 7463, 1675, 38366, 5220, 21, 206, 18963, 2634, 2050, 1689, 2483, 9597, 4827, 38366, 2211, 6162, 37, 206, 2915, 1682, 9199, 1740, 3599, 4494, 19, 13455, 1675, 5220, 1703, 1682, 3242, 9199, 33, 206, 18963, 19646, 1773, 10546, 1682, 9199, 20, 1736, 16, 206, 18963, 7701, 2050, 1689, 2211, 11942, 20, 1736, 37, 38366, 206, 15, 32592, 1839, 1760, 35386, 16, 206, 206, 56, 33, 2852, 1978, 1744, 4498, 5426, 1855, 2131, 2971, 4412, 1705, 28769, 9199, 38, 206, 40, 33, 2306, 1863, 4498, 5426, 1855, 1848, 2971, 4412, 2164, 1675, 26150, 9199, 2620, 1682, 28769, 33938, 5220, 21, 5368, 1809, 2191, 1705, 1978, 1784, 33, 206, 3333, 4498, 1675, 3545, 1807, 10391, 1855, 1848, 2971, 4412, 2164, 1675, 4494, 26150, 9199, 19, 1739, 1863, 2187, 1682, 2797, 18963, 33938, 5220, 9295, 1808, 5692, 20743, 1740, 1776, 8304, 33, 206, 18963, 33938, 2656, 4822, 22, 2003, 22, 8559, 22, 4826, 70, 1685, 70, 25483, 9199, 70, 1736, 29416, 4822, 22, 1676, 22, 11942, 206, 47, 49581, 2732, 19282, 9275, 4395, 206, 206, 56, 33, 2852, 1978, 1744, 4498, 5426, 1855, 1675, 2588, 12257, 2164, 28769, 9199, 1856, 255, 90, 3094, 10391, 38, 206, 40, 33, 2306, 1863, 4498, 5426, 1855, 1848, 2971, 4412, 2164, 1675, 26150, 9199, 2620, 1682, 28769, 33938, 5220, 21, 5368, 1809, 2191, 1705, 1978, 1784, 33, 206, 2098, 1682, 26150, 4826, 19, 1739, 1863, 2815, 1682, 12257, 9209, 1682, 5426, 1769, 1739, 2365, 1705, 4498, 2099, 21, 1808, 5692, 20743, 1740, 1776, 8304, 33, 206, 45878, 12490, 7982, 22, 22388, 21, 5334, 2016, 1792, 16887, 22, 95, 14140, 70, 7987, 21, 9414, 2016, 29476, 7745, 42255, 2023, 205, 46, 1832, 1902, 30696, 1828, 56158, 10062, 206, 206, 56, 33, 1808, 5362, 4645, 1740, 1875, 1675, 1731, 7192, 2112, 4494, 28769, 1703, 11947, 6735, 1773, 27441, 26150, 1748, 6259, 1703, 16993, 41, 2375, 16, 206, 40, 33, 2285, 28769, 7701, 2050, 1689, 1757, 76, 28, 72, 24, 73, 4277, 2937, 6947, 38366, 206, 2687, 5362, 4645, 1740, 1875, 1675, 1731, 7192, 21, 228, 2445, 1739, 1796, 2620, 22753, 2140, 19, 3091, 17522, 1698, 1682, 5220, 1765, 2101, 5660, 6664, 14, 206, 29696, 33, 206, 5660, 6664, 28769, 7701, 2050, 1689, 1757, 76, 28, 72, 24, 73, 4277, 2937, 6947, 38366, 206, 40, 1731, 7192, 1740, 1675, 14456, 6971, 1769, 8233, 10969, 20314, 19, 5572, 1682, 23682, 2678, 19, 4590, 21, 206, 14918, 6664, 1740, 1675, 6259, 3925, 5953, 4724, 1785, 6971, 4090, 1705, 1675, 43812, 1699, 2140, 20, 9066, 1742, 22558, 1765, 6259, 11499, 4905, 21, 206, 9898, 7386, 1748, 14456, 19, 10291, 19, 11499, 5232, 20670, 1708, 2006, 1748, 33, 206, 3268, 2679, 2024, 47979, 21, 3992, 21, 2270, 22, 1692, 22, 47066, 30336, 20781, 21, 3722, 206, 15, 32592, 1839, 1760, 35386, 16, 206, 206, 56, 33, 2852, 1705, 6782, 4870, 2268, 4494, 1682, 26150, 2634, 5220, 206, 40, 33, 23509, 206, 2710, 4870, 1827, 2545, 2143, 1827, 3075, 5598, 1707, 8567, 28739, 4494, 21, 3164, 1744, 4396, 1707, 13063, 1867, 3140, 1765, 1682, 20143, 18485, 70, 4160, 4406, 21, 3354, 19, 1784, 4490, 1856, 255, 91, 3051, 2012, 6076, 1682, 29168, 9199, 21, 3164, 1744, 2703, 1682, 3100, 206, 27441, 1682, 3100, 14893, 206, 18963, 19646, 2050, 72, 2211, 2003, 2561, 1919, 28769, 15055, 37, 206, 18963, 5817, 2211, 2003, 2561, 5817, 37, 206, 18963, 4936, 2211, 11942, 6678, 37, 206, 18963, 33302, 2211, 11942, 6678, 37, 206, 18963, 1847, 7924, 4406, 206, 48, 22168, 1682, 26150, 4406, 19, 1708, 8419, 1784, 3743, 2505, 34, 1867, 2055, 1784, 4496, 10929, 1708, 1744, 1827, 2963, 1705, 5810, 1682, 2742, 7429, 1705, 1682, 19740, 21] token_strings=[] meta=None\n"
     ]
    }
   ],
   "source": [
    "print(tokenize)"
   ]
  },
  {
   "cell_type": "code",
   "execution_count": 128,
   "id": "fcb77194-d8c9-4f47-bbdc-0e66997c09dc",
   "metadata": {},
   "outputs": [
    {
     "data": {
      "text/plain": [
       "{'tokens': [3375,\n",
       "  2516,\n",
       "  1675,\n",
       "  3428,\n",
       "  6955,\n",
       "  9940,\n",
       "  21,\n",
       "  33183,\n",
       "  1682,\n",
       "  75089,\n",
       "  4222,\n",
       "  3103,\n",
       "  1748,\n",
       "  1682,\n",
       "  7130,\n",
       "  21477,\n",
       "  1855,\n",
       "  1682,\n",
       "  26446,\n",
       "  7671,\n",
       "  21,\n",
       "  206,\n",
       "  10431,\n",
       "  2222,\n",
       "  1682,\n",
       "  11285,\n",
       "  1855,\n",
       "  1682,\n",
       "  7130,\n",
       "  21477,\n",
       "  2112,\n",
       "  22968,\n",
       "  1682,\n",
       "  75089,\n",
       "  4222,\n",
       "  21,\n",
       "  206,\n",
       "  206,\n",
       "  7047,\n",
       "  9759,\n",
       "  4222,\n",
       "  33,\n",
       "  2852,\n",
       "  1978,\n",
       "  1744,\n",
       "  13455,\n",
       "  1675,\n",
       "  5220,\n",
       "  1703,\n",
       "  1675,\n",
       "  4494,\n",
       "  28769,\n",
       "  9199,\n",
       "  38,\n",
       "  206,\n",
       "  206,\n",
       "  46451,\n",
       "  33,\n",
       "  206,\n",
       "  56,\n",
       "  33,\n",
       "  2852,\n",
       "  1978,\n",
       "  1744,\n",
       "  16282,\n",
       "  1675,\n",
       "  28769,\n",
       "  9199,\n",
       "  38,\n",
       "  206,\n",
       "  40,\n",
       "  33,\n",
       "  28014,\n",
       "  1682,\n",
       "  9199,\n",
       "  4406,\n",
       "  1703,\n",
       "  11947,\n",
       "  6735,\n",
       "  1708,\n",
       "  58070,\n",
       "  1682,\n",
       "  6271,\n",
       "  4827,\n",
       "  19,\n",
       "  2006,\n",
       "  1769,\n",
       "  1784,\n",
       "  7463,\n",
       "  1675,\n",
       "  38366,\n",
       "  5220,\n",
       "  21,\n",
       "  206,\n",
       "  18963,\n",
       "  2634,\n",
       "  2050,\n",
       "  1689,\n",
       "  2483,\n",
       "  9597,\n",
       "  4827,\n",
       "  38366,\n",
       "  2211,\n",
       "  6162,\n",
       "  37,\n",
       "  206,\n",
       "  2915,\n",
       "  1682,\n",
       "  9199,\n",
       "  1740,\n",
       "  3599,\n",
       "  4494,\n",
       "  19,\n",
       "  13455,\n",
       "  1675,\n",
       "  5220,\n",
       "  1703,\n",
       "  1682,\n",
       "  3242,\n",
       "  9199,\n",
       "  33,\n",
       "  206,\n",
       "  18963,\n",
       "  19646,\n",
       "  1773,\n",
       "  10546,\n",
       "  1682,\n",
       "  9199,\n",
       "  20,\n",
       "  1736,\n",
       "  16,\n",
       "  206,\n",
       "  18963,\n",
       "  7701,\n",
       "  2050,\n",
       "  1689,\n",
       "  2211,\n",
       "  11942,\n",
       "  20,\n",
       "  1736,\n",
       "  37,\n",
       "  38366,\n",
       "  206,\n",
       "  15,\n",
       "  32592,\n",
       "  1839,\n",
       "  1760,\n",
       "  35386,\n",
       "  16,\n",
       "  206,\n",
       "  206,\n",
       "  56,\n",
       "  33,\n",
       "  2852,\n",
       "  1978,\n",
       "  1744,\n",
       "  4498,\n",
       "  5426,\n",
       "  1855,\n",
       "  2131,\n",
       "  2971,\n",
       "  4412,\n",
       "  1705,\n",
       "  28769,\n",
       "  9199,\n",
       "  38,\n",
       "  206,\n",
       "  40,\n",
       "  33,\n",
       "  2306,\n",
       "  1863,\n",
       "  4498,\n",
       "  5426,\n",
       "  1855,\n",
       "  1848,\n",
       "  2971,\n",
       "  4412,\n",
       "  2164,\n",
       "  1675,\n",
       "  26150,\n",
       "  9199,\n",
       "  2620,\n",
       "  1682,\n",
       "  28769,\n",
       "  33938,\n",
       "  5220,\n",
       "  21,\n",
       "  5368,\n",
       "  1809,\n",
       "  2191,\n",
       "  1705,\n",
       "  1978,\n",
       "  1784,\n",
       "  33,\n",
       "  206,\n",
       "  3333,\n",
       "  4498,\n",
       "  1675,\n",
       "  3545,\n",
       "  1807,\n",
       "  10391,\n",
       "  1855,\n",
       "  1848,\n",
       "  2971,\n",
       "  4412,\n",
       "  2164,\n",
       "  1675,\n",
       "  4494,\n",
       "  26150,\n",
       "  9199,\n",
       "  19,\n",
       "  1739,\n",
       "  1863,\n",
       "  2187,\n",
       "  1682,\n",
       "  2797,\n",
       "  18963,\n",
       "  33938,\n",
       "  5220,\n",
       "  9295,\n",
       "  1808,\n",
       "  5692,\n",
       "  20743,\n",
       "  1740,\n",
       "  1776,\n",
       "  8304,\n",
       "  33,\n",
       "  206,\n",
       "  18963,\n",
       "  33938,\n",
       "  2656,\n",
       "  4822,\n",
       "  22,\n",
       "  2003,\n",
       "  22,\n",
       "  8559,\n",
       "  22,\n",
       "  4826,\n",
       "  70,\n",
       "  1685,\n",
       "  70,\n",
       "  25483,\n",
       "  9199,\n",
       "  70,\n",
       "  1736,\n",
       "  29416,\n",
       "  4822,\n",
       "  22,\n",
       "  1676,\n",
       "  22,\n",
       "  11942,\n",
       "  206,\n",
       "  47,\n",
       "  49581,\n",
       "  2732,\n",
       "  19282,\n",
       "  9275,\n",
       "  4395,\n",
       "  206,\n",
       "  206,\n",
       "  56,\n",
       "  33,\n",
       "  2852,\n",
       "  1978,\n",
       "  1744,\n",
       "  4498,\n",
       "  5426,\n",
       "  1855,\n",
       "  1675,\n",
       "  2588,\n",
       "  12257,\n",
       "  2164,\n",
       "  28769,\n",
       "  9199,\n",
       "  1856,\n",
       "  255,\n",
       "  90,\n",
       "  3094,\n",
       "  10391,\n",
       "  38,\n",
       "  206,\n",
       "  40,\n",
       "  33,\n",
       "  2306,\n",
       "  1863,\n",
       "  4498,\n",
       "  5426,\n",
       "  1855,\n",
       "  1848,\n",
       "  2971,\n",
       "  4412,\n",
       "  2164,\n",
       "  1675,\n",
       "  26150,\n",
       "  9199,\n",
       "  2620,\n",
       "  1682,\n",
       "  28769,\n",
       "  33938,\n",
       "  5220,\n",
       "  21,\n",
       "  5368,\n",
       "  1809,\n",
       "  2191,\n",
       "  1705,\n",
       "  1978,\n",
       "  1784,\n",
       "  33,\n",
       "  206,\n",
       "  2098,\n",
       "  1682,\n",
       "  26150,\n",
       "  4826,\n",
       "  19,\n",
       "  1739,\n",
       "  1863,\n",
       "  2815,\n",
       "  1682,\n",
       "  12257,\n",
       "  9209,\n",
       "  1682,\n",
       "  5426,\n",
       "  1769,\n",
       "  1739,\n",
       "  2365,\n",
       "  1705,\n",
       "  4498,\n",
       "  2099,\n",
       "  21,\n",
       "  1808,\n",
       "  5692,\n",
       "  20743,\n",
       "  1740,\n",
       "  1776,\n",
       "  8304,\n",
       "  33,\n",
       "  206,\n",
       "  45878,\n",
       "  12490,\n",
       "  7982,\n",
       "  22,\n",
       "  22388,\n",
       "  21,\n",
       "  5334,\n",
       "  2016,\n",
       "  1792,\n",
       "  16887,\n",
       "  22,\n",
       "  95,\n",
       "  14140,\n",
       "  70,\n",
       "  7987,\n",
       "  21,\n",
       "  9414,\n",
       "  2016,\n",
       "  29476,\n",
       "  7745,\n",
       "  42255,\n",
       "  2023,\n",
       "  205,\n",
       "  46,\n",
       "  1832,\n",
       "  1902,\n",
       "  30696,\n",
       "  1828,\n",
       "  56158,\n",
       "  10062,\n",
       "  206,\n",
       "  206,\n",
       "  56,\n",
       "  33,\n",
       "  1808,\n",
       "  5362,\n",
       "  4645,\n",
       "  1740,\n",
       "  1875,\n",
       "  1675,\n",
       "  1731,\n",
       "  7192,\n",
       "  2112,\n",
       "  4494,\n",
       "  28769,\n",
       "  1703,\n",
       "  11947,\n",
       "  6735,\n",
       "  1773,\n",
       "  27441,\n",
       "  26150,\n",
       "  1748,\n",
       "  6259,\n",
       "  1703,\n",
       "  16993,\n",
       "  41,\n",
       "  2375,\n",
       "  16,\n",
       "  206,\n",
       "  40,\n",
       "  33,\n",
       "  2285,\n",
       "  28769,\n",
       "  7701,\n",
       "  2050,\n",
       "  1689,\n",
       "  1757,\n",
       "  76,\n",
       "  28,\n",
       "  72,\n",
       "  24,\n",
       "  73,\n",
       "  4277,\n",
       "  2937,\n",
       "  6947,\n",
       "  38366,\n",
       "  206,\n",
       "  2687,\n",
       "  5362,\n",
       "  4645,\n",
       "  1740,\n",
       "  1875,\n",
       "  1675,\n",
       "  1731,\n",
       "  7192,\n",
       "  21,\n",
       "  228,\n",
       "  2445,\n",
       "  1739,\n",
       "  1796,\n",
       "  2620,\n",
       "  22753,\n",
       "  2140,\n",
       "  19,\n",
       "  3091,\n",
       "  17522,\n",
       "  1698,\n",
       "  1682,\n",
       "  5220,\n",
       "  1765,\n",
       "  2101,\n",
       "  5660,\n",
       "  6664,\n",
       "  14,\n",
       "  206,\n",
       "  29696,\n",
       "  33,\n",
       "  206,\n",
       "  5660,\n",
       "  6664,\n",
       "  28769,\n",
       "  7701,\n",
       "  2050,\n",
       "  1689,\n",
       "  1757,\n",
       "  76,\n",
       "  28,\n",
       "  72,\n",
       "  24,\n",
       "  73,\n",
       "  4277,\n",
       "  2937,\n",
       "  6947,\n",
       "  38366,\n",
       "  206,\n",
       "  40,\n",
       "  1731,\n",
       "  7192,\n",
       "  1740,\n",
       "  1675,\n",
       "  14456,\n",
       "  6971,\n",
       "  1769,\n",
       "  8233,\n",
       "  10969,\n",
       "  20314,\n",
       "  19,\n",
       "  5572,\n",
       "  1682,\n",
       "  23682,\n",
       "  2678,\n",
       "  19,\n",
       "  4590,\n",
       "  21,\n",
       "  206,\n",
       "  14918,\n",
       "  6664,\n",
       "  1740,\n",
       "  1675,\n",
       "  6259,\n",
       "  3925,\n",
       "  5953,\n",
       "  4724,\n",
       "  1785,\n",
       "  6971,\n",
       "  4090,\n",
       "  1705,\n",
       "  1675,\n",
       "  43812,\n",
       "  1699,\n",
       "  2140,\n",
       "  20,\n",
       "  9066,\n",
       "  1742,\n",
       "  22558,\n",
       "  1765,\n",
       "  6259,\n",
       "  11499,\n",
       "  4905,\n",
       "  21,\n",
       "  206,\n",
       "  9898,\n",
       "  7386,\n",
       "  1748,\n",
       "  14456,\n",
       "  19,\n",
       "  10291,\n",
       "  19,\n",
       "  11499,\n",
       "  5232,\n",
       "  20670,\n",
       "  1708,\n",
       "  2006,\n",
       "  1748,\n",
       "  33,\n",
       "  206,\n",
       "  3268,\n",
       "  2679,\n",
       "  2024,\n",
       "  47979,\n",
       "  21,\n",
       "  3992,\n",
       "  21,\n",
       "  2270,\n",
       "  22,\n",
       "  1692,\n",
       "  22,\n",
       "  47066,\n",
       "  30336,\n",
       "  20781,\n",
       "  21,\n",
       "  3722,\n",
       "  206,\n",
       "  15,\n",
       "  32592,\n",
       "  1839,\n",
       "  1760,\n",
       "  35386,\n",
       "  16,\n",
       "  206,\n",
       "  206,\n",
       "  56,\n",
       "  33,\n",
       "  2852,\n",
       "  1705,\n",
       "  6782,\n",
       "  4870,\n",
       "  2268,\n",
       "  4494,\n",
       "  1682,\n",
       "  26150,\n",
       "  2634,\n",
       "  5220,\n",
       "  206,\n",
       "  40,\n",
       "  33,\n",
       "  23509,\n",
       "  206,\n",
       "  2710,\n",
       "  4870,\n",
       "  1827,\n",
       "  2545,\n",
       "  2143,\n",
       "  1827,\n",
       "  3075,\n",
       "  5598,\n",
       "  1707,\n",
       "  8567,\n",
       "  28739,\n",
       "  4494,\n",
       "  21,\n",
       "  3164,\n",
       "  1744,\n",
       "  4396,\n",
       "  1707,\n",
       "  13063,\n",
       "  1867,\n",
       "  3140,\n",
       "  1765,\n",
       "  1682,\n",
       "  20143,\n",
       "  18485,\n",
       "  70,\n",
       "  4160,\n",
       "  4406,\n",
       "  21,\n",
       "  3354,\n",
       "  19,\n",
       "  1784,\n",
       "  4490,\n",
       "  1856,\n",
       "  255,\n",
       "  91,\n",
       "  3051,\n",
       "  2012,\n",
       "  6076,\n",
       "  1682,\n",
       "  29168,\n",
       "  9199,\n",
       "  21,\n",
       "  3164,\n",
       "  1744,\n",
       "  2703,\n",
       "  1682,\n",
       "  3100,\n",
       "  206,\n",
       "  27441,\n",
       "  1682,\n",
       "  3100,\n",
       "  14893,\n",
       "  206,\n",
       "  18963,\n",
       "  19646,\n",
       "  2050,\n",
       "  72,\n",
       "  2211,\n",
       "  2003,\n",
       "  2561,\n",
       "  1919,\n",
       "  28769,\n",
       "  15055,\n",
       "  37,\n",
       "  206,\n",
       "  18963,\n",
       "  5817,\n",
       "  2211,\n",
       "  2003,\n",
       "  2561,\n",
       "  5817,\n",
       "  37,\n",
       "  206,\n",
       "  18963,\n",
       "  4936,\n",
       "  2211,\n",
       "  11942,\n",
       "  6678,\n",
       "  37,\n",
       "  206,\n",
       "  18963,\n",
       "  33302,\n",
       "  2211,\n",
       "  11942,\n",
       "  6678,\n",
       "  37,\n",
       "  206,\n",
       "  18963,\n",
       "  1847,\n",
       "  7924,\n",
       "  4406,\n",
       "  206,\n",
       "  48,\n",
       "  22168,\n",
       "  1682,\n",
       "  26150,\n",
       "  4406,\n",
       "  19,\n",
       "  1708,\n",
       "  8419,\n",
       "  1784,\n",
       "  3743,\n",
       "  2505,\n",
       "  34,\n",
       "  1867,\n",
       "  2055,\n",
       "  1784,\n",
       "  4496,\n",
       "  10929,\n",
       "  1708,\n",
       "  1744,\n",
       "  1827,\n",
       "  2963,\n",
       "  1705,\n",
       "  5810,\n",
       "  1682,\n",
       "  2742,\n",
       "  7429,\n",
       "  1705,\n",
       "  1682,\n",
       "  19740,\n",
       "  21],\n",
       " 'token_strings': [],\n",
       " 'meta': None}"
      ]
     },
     "execution_count": 128,
     "metadata": {},
     "output_type": "execute_result"
    }
   ],
   "source": [
    "dict(tokenize)"
   ]
  },
  {
   "cell_type": "code",
   "execution_count": null,
   "id": "e654f95c-b3b1-4119-b9de-3a26f62100be",
   "metadata": {},
   "outputs": [],
   "source": []
  }
 ],
 "metadata": {
  "kernelspec": {
   "display_name": "Python 3 (ipykernel)",
   "language": "python",
   "name": "python3"
  },
  "language_info": {
   "codemirror_mode": {
    "name": "ipython",
    "version": 3
   },
   "file_extension": ".py",
   "mimetype": "text/x-python",
   "name": "python",
   "nbconvert_exporter": "python",
   "pygments_lexer": "ipython3",
   "version": "3.10.13"
  }
 },
 "nbformat": 4,
 "nbformat_minor": 5
}
